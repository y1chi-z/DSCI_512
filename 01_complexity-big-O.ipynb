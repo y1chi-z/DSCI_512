{
 "cells": [
  {
   "cell_type": "markdown",
   "metadata": {},
   "source": [
    "<img src=\"dsci512_header.png\" width=\"600\">\n",
    "\n",
    "# Lecture 1 Time & space complexity, and big O notation"
   ]
  },
  {
   "cell_type": "markdown",
   "metadata": {},
   "source": [
    "## High-level course introduction\n",
    "\n",
    "Welcome to this algorithms and data structure course! The primary goal is to help you develop the mindset and skills of a computer scientist, specifically with a focus on algorithmic thinking. Throughout this course, you’ll learn how to approach problems in a structured way, breaking them down into steps that a computer can execute. This will involve thinking critically about how algorithms work, how efficient they are, and how they can be optimized. \n",
    "\n",
    "In addition, you’ll gain practical insights into what to do when your code runs too slowly. Understanding the performance of algorithms and knowing how to identify inefficiency in code will also be a key part of the course. \n",
    "\n",
    "It’s important to note that this course is highly compressed. While it touches on many of the fundamental topics found in traditional undergraduate algorithms and data structures courses, we won’t have time to delve deeply into every subject. Instead, we’ll focus on key ideas that will equip you with the essentials for algorithmic problem-solving.\n"
   ]
  },
  {
   "cell_type": "markdown",
   "metadata": {},
   "source": [
    "## Learning objectives\n",
    "\n",
    "By the end of this lecture, students will be able to:\n",
    "- Given code, determine the time and space complexity using Big-O notation.\n",
    "- Classify an algorithm into one of the common complexity classes (e.g. constant, logarithmic, linear, quadratic, etc.).\n",
    "- Describe the linear and binary search algorithm.\n",
    "- Explain why searching in a sorted list is faster than in an unsorted list.\n",
    "- Contrast time and space complexity.\n",
    "- Measure the amount of time code in Python takes using `timeit` or the `time` library.\n",
    "- Maintain an awareness that choosing a good algorithm matters, sometimes _a lot_!"
   ]
  },
  {
   "cell_type": "code",
   "execution_count": null,
   "metadata": {},
   "outputs": [],
   "source": [
    "# import packages needed in this lecture\n",
    "import numpy as np\n",
    "import pandas as pd\n",
    "\n",
    "import matplotlib.pyplot as plt\n",
    "%config InlineBackend.figure_formats = ['svg']"
   ]
  },
  {
   "cell_type": "markdown",
   "metadata": {},
   "source": [
    "**Note:** this lecture is meant to be run in a Jupyter notebook. Part of the experience is that some cells take longer to run than others. Simply reading the notebook will not make sense."
   ]
  },
  {
   "cell_type": "markdown",
   "metadata": {},
   "source": [
    "## 1. Code demos: searching and sorting"
   ]
  },
  {
   "cell_type": "markdown",
   "metadata": {},
   "source": [
    "#### Demo 1: searching (list vs. set)\n",
    "\n",
    "- Common problem: is a certain value present in a collection of items?"
   ]
  },
  {
   "cell_type": "code",
   "execution_count": null,
   "metadata": {},
   "outputs": [],
   "source": [
    "n = 10_000_000\n",
    "x = list(range(n))\n",
    "x[:20]  # first 20 items"
   ]
  },
  {
   "cell_type": "code",
   "execution_count": null,
   "metadata": {},
   "outputs": [],
   "source": [
    "-1 in x"
   ]
  },
  {
   "cell_type": "code",
   "execution_count": null,
   "metadata": {},
   "outputs": [],
   "source": [
    "%timeit (-1 in x)"
   ]
  },
  {
   "cell_type": "code",
   "execution_count": null,
   "metadata": {},
   "outputs": [],
   "source": [
    "x = set(range(n))"
   ]
  },
  {
   "cell_type": "code",
   "execution_count": null,
   "metadata": {},
   "outputs": [],
   "source": [
    "-1 in x"
   ]
  },
  {
   "cell_type": "code",
   "execution_count": null,
   "metadata": {},
   "outputs": [],
   "source": [
    "%timeit (-1 in x)"
   ]
  },
  {
   "cell_type": "markdown",
   "metadata": {},
   "source": [
    "Note that we were cheating a little bit, because _creating_ the set takes longer than creating the list."
   ]
  },
  {
   "cell_type": "markdown",
   "metadata": {},
   "source": [
    "```{note}\n",
    "We use the `timeit` function to measure the runtime of a single statement. For more details, please refer to this [note](https://jakevdp.github.io/PythonDataScienceHandbook/01.07-timing-and-profiling.html).\n",
    "```"
   ]
  },
  {
   "cell_type": "markdown",
   "metadata": {},
   "source": [
    "#### Demo 2: sorting (selection vs. quick)"
   ]
  },
  {
   "cell_type": "markdown",
   "metadata": {},
   "source": [
    "Aside: min vs. argmin"
   ]
  },
  {
   "cell_type": "code",
   "execution_count": null,
   "metadata": {},
   "outputs": [],
   "source": [
    "x = [4.2, 98.2, 9.0, 0.1, 30, 2.5, 2.6]"
   ]
  },
  {
   "cell_type": "code",
   "execution_count": null,
   "metadata": {},
   "outputs": [],
   "source": [
    "min(x)  # Python min"
   ]
  },
  {
   "cell_type": "code",
   "execution_count": null,
   "metadata": {},
   "outputs": [],
   "source": [
    "np.min(x)  # Numpy min: generally better if working with Numpy arays"
   ]
  },
  {
   "cell_type": "code",
   "execution_count": null,
   "metadata": {},
   "outputs": [],
   "source": [
    "np.argmin(x)"
   ]
  },
  {
   "cell_type": "code",
   "execution_count": null,
   "metadata": {},
   "outputs": [],
   "source": [
    "x[3]"
   ]
  },
  {
   "cell_type": "markdown",
   "metadata": {},
   "source": [
    "Above: `np.argmin` gives us the _index of_ the smallest value.\n",
    "\n",
    "Now, back to the demo."
   ]
  },
  {
   "cell_type": "code",
   "execution_count": null,
   "metadata": {},
   "outputs": [],
   "source": [
    "n = 20_000\n",
    "x = list(range(n))"
   ]
  },
  {
   "cell_type": "code",
   "execution_count": null,
   "metadata": {},
   "outputs": [],
   "source": [
    "np.random.shuffle(x)"
   ]
  },
  {
   "cell_type": "code",
   "execution_count": null,
   "metadata": {},
   "outputs": [],
   "source": [
    "x[:10]"
   ]
  },
  {
   "cell_type": "code",
   "execution_count": null,
   "metadata": {},
   "outputs": [],
   "source": [
    "print('sorting x...')\n",
    "for i in range(n):\n",
    "    min_ind = np.argmin(x[i:]) + i\n",
    "    x[i], x[min_ind] = x[min_ind], x[i] # swap\n",
    "print('done')"
   ]
  },
  {
   "cell_type": "code",
   "execution_count": null,
   "metadata": {},
   "outputs": [],
   "source": [
    "x[:10]"
   ]
  },
  {
   "cell_type": "code",
   "execution_count": null,
   "metadata": {},
   "outputs": [],
   "source": [
    "np.random.shuffle(x)"
   ]
  },
  {
   "cell_type": "code",
   "execution_count": null,
   "metadata": {},
   "outputs": [],
   "source": [
    "x[:10]"
   ]
  },
  {
   "cell_type": "code",
   "execution_count": null,
   "metadata": {},
   "outputs": [],
   "source": [
    "x.sort()"
   ]
  },
  {
   "cell_type": "code",
   "execution_count": null,
   "metadata": {},
   "outputs": [],
   "source": [
    "x[:10]"
   ]
  },
  {
   "cell_type": "markdown",
   "metadata": {},
   "source": [
    "#### Demo 3: batch operations (loop vs. vectorized)"
   ]
  },
  {
   "cell_type": "code",
   "execution_count": null,
   "metadata": {},
   "outputs": [],
   "source": [
    "n = 50_000_000\n",
    "x = np.random.rand(n)\n",
    "y = np.zeros(n)"
   ]
  },
  {
   "cell_type": "code",
   "execution_count": null,
   "metadata": {},
   "outputs": [],
   "source": [
    "x.shape"
   ]
  },
  {
   "cell_type": "code",
   "execution_count": null,
   "metadata": {},
   "outputs": [],
   "source": [
    "y.shape"
   ]
  },
  {
   "cell_type": "code",
   "execution_count": null,
   "metadata": {},
   "outputs": [],
   "source": [
    "x[:10]"
   ]
  },
  {
   "cell_type": "code",
   "execution_count": null,
   "metadata": {},
   "outputs": [],
   "source": [
    "y[:10]"
   ]
  },
  {
   "cell_type": "code",
   "execution_count": null,
   "metadata": {},
   "outputs": [],
   "source": [
    "print(\"running y=x*2\")\n",
    "for i in range(n):\n",
    "    y[i] = x[i] * 2\n",
    "print(\"done\")"
   ]
  },
  {
   "cell_type": "code",
   "execution_count": null,
   "metadata": {},
   "outputs": [],
   "source": [
    "x = np.random.rand(n)\n",
    "y = np.zeros(n)"
   ]
  },
  {
   "cell_type": "code",
   "execution_count": null,
   "metadata": {},
   "outputs": [],
   "source": [
    "y = x * 2"
   ]
  },
  {
   "cell_type": "markdown",
   "metadata": {},
   "source": [
    "Questions we'll answer in this course:\n",
    "\n",
    "- How could I have predicted these outcomes?\n",
    "- What if I double the size of $n$, how much slower will the code be in each case? (Quantitative analysis)\n",
    "- Why did this happen? (not in detail)"
   ]
  },
  {
   "cell_type": "markdown",
   "metadata": {},
   "source": [
    "## 2. Time complexity "
   ]
  },
  {
   "cell_type": "markdown",
   "metadata": {},
   "source": [
    "- We'll focus on the 2nd question about: how does the runtime change as a function of $n$?\n",
    "- For now, let's ask ourselves: \"if we double $n$, what happens to the number of steps?\""
   ]
  },
  {
   "cell_type": "markdown",
   "metadata": {},
   "source": [
    "#### Examples from the above demos\n",
    "\n",
    "For each of the following, what happens to the runtime if we double $n$?\n",
    "\n",
    "**Operation:** Finding whether a number is in a list.\n",
    "<br><br><br>"
   ]
  },
  {
   "cell_type": "markdown",
   "metadata": {
    "collapsed": false,
    "jupyter": {
     "outputs_hidden": false
    }
   },
   "source": [
    "<br><br><br>\n",
    "**Answer:** it doubles."
   ]
  },
  {
   "cell_type": "markdown",
   "metadata": {},
   "source": [
    "**Operation:** Finding whether a number is in a set.\n",
    "<br><br><br>"
   ]
  },
  {
   "cell_type": "markdown",
   "metadata": {
    "collapsed": false,
    "jupyter": {
     "outputs_hidden": false
    }
   },
   "source": [
    "<br><br><br>\n",
    "**Answer:** it stays roughly the same."
   ]
  },
  {
   "cell_type": "markdown",
   "metadata": {},
   "source": [
    "**Operation:** Sorting with my code.\n",
    "<br><br><br>"
   ]
  },
  {
   "cell_type": "markdown",
   "metadata": {
    "collapsed": false,
    "jupyter": {
     "outputs_hidden": false
    }
   },
   "source": [
    "<br><br><br>\n",
    "**Answer:** it quadruples (4x)"
   ]
  },
  {
   "cell_type": "markdown",
   "metadata": {},
   "source": [
    "**Operation:** Sorting with `sort`.\n",
    "<br><br><br>"
   ]
  },
  {
   "cell_type": "markdown",
   "metadata": {
    "collapsed": false,
    "jupyter": {
     "outputs_hidden": false
    }
   },
   "source": [
    "<br><br><br>\n",
    "**Answer:** it slightly more than doubles"
   ]
  },
  {
   "cell_type": "markdown",
   "metadata": {},
   "source": [
    "**Operation:** Doubling an array with a loop.\n",
    "<br><br><br>"
   ]
  },
  {
   "cell_type": "markdown",
   "metadata": {
    "collapsed": false,
    "jupyter": {
     "outputs_hidden": false
    }
   },
   "source": [
    "<br><br><br>\n",
    "**Answer:** it doubles"
   ]
  },
  {
   "cell_type": "markdown",
   "metadata": {},
   "source": [
    "**Operation:** Doubling an array with numpy.\n",
    "<br><br><br>"
   ]
  },
  {
   "cell_type": "markdown",
   "metadata": {
    "collapsed": false,
    "jupyter": {
     "outputs_hidden": false
    }
   },
   "source": [
    "<br><br><br>\n",
    "**Answer:** it doubles (but is much faster than with a loop!)"
   ]
  },
  {
   "cell_type": "markdown",
   "metadata": {},
   "source": [
    "These scenarios form part of the roadmap of the course - by the end we'll hopefully have explored most of them."
   ]
  },
  {
   "cell_type": "markdown",
   "metadata": {},
   "source": [
    "## 3. Big O Notation\n",
    "\n",
    "\n",
    "### 3.1. Definition\n",
    "\n",
    "- We will formalize time complexity using _Big O notation_. \n",
    "  - In addition to $O$, there is also $o$, $\\omega$, $\\Omega$, $\\theta$, $\\Theta$, and more. But Big O is the most common and we'll only discuss Big O.\n",
    "  - We will not go into the mathematical details but if you're interested, you can read about it online (e.g. the [Wikipedia article](https://en.wikipedia.org/wiki/Big_O_notation)).\n",
    "- The Big O tells us the **approximate number of steps** an algorithm performs **as a function of the input size** (i.e. $n$ above)\n"
   ]
  },
  {
   "cell_type": "markdown",
   "metadata": {},
   "source": [
    "#### Common runtimes\n",
    "\n",
    "| Big O  &nbsp; &nbsp; &nbsp; &nbsp; &nbsp; &nbsp; &nbsp; &nbsp; &nbsp; &nbsp;&nbsp; &nbsp; &nbsp; &nbsp; &nbsp; &nbsp; &nbsp;  &nbsp; &nbsp; &nbsp;&nbsp; &nbsp; &nbsp; &nbsp; &nbsp; &nbsp; |  name  | change in runtime if I double $n$? |\n",
    "|-------|--------|-------|\n",
    "| $O(1)$ | constant | same |\n",
    "| $O(\\log n)$ | logarithmic | increased by a constant |\n",
    "| $O(n)$ | linear | 2x | \n",
    "| $O(n \\log n)$ | linearithmic | roughly 2x | \n",
    "| $O(n^2)$ | quadratic | 4x |\n",
    "| $O(n^3)$ | cubic | 8x |\n",
    "| $O(n^k)$ | polynomial | increase by a factor of $2^k$ | \n",
    "| $O(2^n)$ | exponential | squared |\n",
    "\n",
    "- We write $O(f(n))$ for some function $f(n)$.\n",
    "- You get the doubling time by taking $f(2n)/f(n)$.\n",
    "- E.g. if $f(n)=n^3$, then $f(2n)/f(n)=(2n)^3/n^3=8$. \n",
    "  - So if you double $n$, the running time goes up 8x.\n",
    "- For $O(2^n)$, increasing $n$ by 1 causes the runtime to double!\n",
    "\n",
    "Note: these are **common** cases of big O, but this list is not exhaustive."
   ]
  },
  {
   "cell_type": "markdown",
   "metadata": {},
   "source": [
    "#### Back to the examples from earlier \n",
    "\n",
    "For each of the following, what is the time complexity in Big O notation?\n",
    "\n",
    "- Finding whether a number is in a list."
   ]
  },
  {
   "cell_type": "markdown",
   "metadata": {
    "tags": []
   },
   "source": [
    "> Answer: $O(n)$"
   ]
  },
  {
   "cell_type": "markdown",
   "metadata": {},
   "source": [
    "- Finding whether a number is in a set."
   ]
  },
  {
   "cell_type": "markdown",
   "metadata": {
    "tags": []
   },
   "source": [
    "> Answer: $O(1)$ (more on this in Lecture 2)\n"
   ]
  },
  {
   "cell_type": "markdown",
   "metadata": {},
   "source": [
    "- Sorting with my code.\n"
   ]
  },
  {
   "cell_type": "markdown",
   "metadata": {
    "tags": []
   },
   "source": [
    "> Answer: $O(n^2)$"
   ]
  },
  {
   "cell_type": "markdown",
   "metadata": {},
   "source": [
    "- Sorting with `sort`.\n"
   ]
  },
  {
   "cell_type": "markdown",
   "metadata": {
    "tags": []
   },
   "source": [
    "> Answer: $O(n \\log n)$ (more on this in Lecture 5)"
   ]
  },
  {
   "cell_type": "markdown",
   "metadata": {},
   "source": [
    "- Doubling with a loop.\n"
   ]
  },
  {
   "cell_type": "markdown",
   "metadata": {
    "tags": []
   },
   "source": [
    "> Answer: $O(n)$"
   ]
  },
  {
   "cell_type": "markdown",
   "metadata": {},
   "source": [
    "- Doubling with numpy."
   ]
  },
  {
   "cell_type": "markdown",
   "metadata": {
    "tags": []
   },
   "source": [
    "> Answer: $O(n)$"
   ]
  },
  {
   "cell_type": "markdown",
   "metadata": {},
   "source": [
    "#### Constant Factors & Lower-Order Terms\n",
    "\n",
    "- In Big O notation, we ignore **multiplicative constants**.\n",
    "  - If an algorithm takes $2n$ steps, we write $O(n)$, not $O(2n$).\n",
    "  - We're interested in how the runtime grows, not the exact runtime.\n",
    "- In Big O notation, we ignore **\"lower order\" terms**, including additive constants.\n",
    "  - If the number of steps is $n+5$, we write $O(n)$ not $O(n+5)$\n",
    "  - If the number of steps is $n+\\log n$, we write $O(n)$ not $O(n+\\log n)$\n",
    "  - We're interested in the growth when $n$ is large.\n",
    "  - The lower order terms stop being important when $n$ is large. \n",
    "  - But they might be important when $n$ is small!\n",
    "- As such, Big O complexities can be misleading at times.\n",
    "  - Is code that runs in $O(\\log n)$ time faster than code that runs in $O(n)$ time?\n",
    "  - Not always! It depends on the details.\n",
    "  - $10000\\log n$ is more than $0.001n$ for small values of $n$."
   ]
  },
  {
   "cell_type": "markdown",
   "metadata": {},
   "source": [
    "### 3.2. Visualizing Time Complexities"
   ]
  },
  {
   "cell_type": "code",
   "execution_count": null,
   "metadata": {
    "tags": []
   },
   "outputs": [],
   "source": [
    "n = np.arange(1, 40, 0.1)\n",
    "\n",
    "times = {\n",
    "        r'$O(1)$': 0*n+1,\n",
    "        r'$O(\\log n)$': np.log(n),\n",
    "        r'$O(n)$': n,\n",
    "        r'$O(n \\log n)$': n*np.log(n),\n",
    "        r'$O(n^2)$': n**2.,\n",
    "        r'$O(n^3)$': n**3.,\n",
    "        r'$O(2^n)$':  2.**n\n",
    "}\n",
    "\n",
    "for name, t in times.items():\n",
    "    plt.plot(n, t, label=name)\n",
    "plt.legend()\n",
    "plt.xlabel('n')\n",
    "plt.ylabel('running time');"
   ]
  },
  {
   "cell_type": "markdown",
   "metadata": {},
   "source": [
    "It is also common to look at log-log plots:"
   ]
  },
  {
   "cell_type": "code",
   "execution_count": null,
   "metadata": {
    "tags": []
   },
   "outputs": [],
   "source": [
    "for name, t in times.items():\n",
    "    plt.loglog(n, t, label=name)\n",
    "plt.legend();\n",
    "plt.xlabel('n');\n",
    "plt.ylabel('running time');"
   ]
  },
  {
   "cell_type": "markdown",
   "metadata": {},
   "source": [
    "- Above: we see that $2^n$ (exponential) is by far the biggest! \n",
    "- Let's remove $2^n$ so we can see the rest of the log-log plot more clearly:"
   ]
  },
  {
   "cell_type": "code",
   "execution_count": null,
   "metadata": {
    "tags": []
   },
   "outputs": [],
   "source": [
    "for name, t in times.items():\n",
    "    if name != '$O(2^n)$':\n",
    "        plt.loglog(n, t, label=name)\n",
    "plt.legend();\n",
    "plt.xlabel('n');\n",
    "plt.ylabel('running time');"
   ]
  },
  {
   "cell_type": "markdown",
   "metadata": {},
   "source": [
    "In log-log plots, polynomials turn into straight lines, with slope equal to the exponent."
   ]
  },
  {
   "cell_type": "markdown",
   "metadata": {
    "tags": []
   },
   "source": [
    "### 3.3. Example Big O Analysis"
   ]
  },
  {
   "cell_type": "markdown",
   "metadata": {},
   "source": [
    "Find the time complexities of `f` and `g` below."
   ]
  },
  {
   "cell_type": "code",
   "execution_count": null,
   "metadata": {},
   "outputs": [],
   "source": [
    "def f(n):\n",
    "    for i in range(n):\n",
    "        for j in range(n):\n",
    "            print(i, j)"
   ]
  },
  {
   "cell_type": "markdown",
   "metadata": {},
   "source": [
    "<br><br><br><br>\n",
    "$O(n^2)$\n",
    "<br><br><br><br>"
   ]
  },
  {
   "cell_type": "code",
   "execution_count": null,
   "metadata": {},
   "outputs": [],
   "source": [
    "def g(n):\n",
    "    for i in range(n):\n",
    "        print(i)\n",
    "    for j in range(n):\n",
    "        print(j)"
   ]
  },
  {
   "cell_type": "markdown",
   "metadata": {},
   "source": [
    "<br><br><br><br>\n",
    "$O(n)$\n",
    "<br><br><br><br>"
   ]
  },
  {
   "cell_type": "markdown",
   "metadata": {},
   "source": [
    "#### How to determine the complexity?\n",
    "\n",
    "- With raw Python code, we can often \"count the number of loops\"\n",
    "  - A loop $n$ times gives $O(n)$\n",
    "  - A nested loop gives $O(n^2$)\n",
    "  - etc.\n",
    "- However, we have to think about the functions we're using. \n",
    "\n",
    "##### Step 1: Determine the number of steps\n",
    "```python\n",
    "def g(n):\n",
    "    for i in range(n):       # n iterations\n",
    "        for i in range(n):   # n iterations\n",
    "            print(j)         # constant-time (K)\n",
    "    for j in range(n):       # n iterations\n",
    "        print(j)             # constant-time (K)\n",
    "```\n",
    "So we have $f(n)=Kn^2+Kn$\n",
    "\n",
    "##### Step 2: Remove constant factors and lower-order terms\n",
    "$K$ is a constant factor, so we can remove it: $n^2+n$.\n",
    "\n",
    "$n$ is lower order than $n^2$, so we can remove it: $n^2$.\n",
    "\n",
    "Leaving us with: $O(f(n))=n^2$"
   ]
  },
  {
   "cell_type": "markdown",
   "metadata": {},
   "source": [
    "#### What factors affect the runtime?\n",
    "\n",
    "- What affects the Big O?\n",
    "  - Typically, just the algorithm.\n",
    "- What affects the constant?\n",
    "  - The algorithm.\n",
    "    - Does it take $n$ steps or $2n$ steps or $100000n$ steps?\n",
    "    - How complicated is each step?\n",
    "  - The _implementation_.\n",
    "    - How fast is your programming language?\n",
    "    - How fast are your libraries (e.g. Numpy)?\n",
    "    - How fast is your laptop?\n",
    "    - Is there an opportunity for parallel computation?\n",
    "- The implementation issues are quite complicated. \n",
    "  - More on this later."
   ]
  },
  {
   "cell_type": "markdown",
   "metadata": {
    "tags": []
   },
   "source": [
    "### 3.4. Lower Order Terms Revisited\n",
    "\n",
    "Why is $O(n+\\log(n)+5)$ considered the same as $O(n)$?\n"
   ]
  },
  {
   "cell_type": "code",
   "execution_count": null,
   "metadata": {
    "tags": []
   },
   "outputs": [],
   "source": [
    "n = np.arange(1,10, 0.1)\n",
    "plt.plot(n, label=\"n\")\n",
    "plt.plot(n+np.log(n)+5, label=\"n + log(n) + 5\")\n",
    "plt.legend();"
   ]
  },
  {
   "cell_type": "markdown",
   "metadata": {},
   "source": [
    "- What you can see here is that $n+\\log(n)+5$ starts curved but soon becomes linear-looking.\n",
    "- We call the $\\log(n)$ and the $5$ \"lower order terms\" because the grow more slowly than the dominant term ($n$)."
   ]
  },
  {
   "cell_type": "markdown",
   "metadata": {},
   "source": [
    "#### For small n, the lower-order terms matter"
   ]
  },
  {
   "cell_type": "markdown",
   "metadata": {},
   "source": [
    "- Consider an algorithm that takes $100\\sqrt{n}$ steps vs. an algorithm that takes $n$ steps.\n",
    "- According to big O, the second one is a faster-growing function, meaning the code will be slower.\n",
    "- Let's plot it:"
   ]
  },
  {
   "cell_type": "code",
   "execution_count": null,
   "metadata": {
    "tags": []
   },
   "outputs": [],
   "source": [
    "n = np.arange(1,100000)\n",
    "plt.plot(n, label=\"n\")\n",
    "plt.plot(100*np.sqrt(n), label=\"sqrt(n)\")\n",
    "plt.legend();"
   ]
  },
  {
   "cell_type": "markdown",
   "metadata": {},
   "source": [
    "- That seems to be true, $n$ grows faster than $\\sqrt{n}$.\n",
    "- But what if we zoom in:"
   ]
  },
  {
   "cell_type": "code",
   "execution_count": null,
   "metadata": {
    "tags": []
   },
   "outputs": [],
   "source": [
    "n = np.arange(1,1000)\n",
    "plt.plot(n, label=\"n\")\n",
    "plt.plot(100*np.sqrt(n), label=\"sqrt(n)\")\n",
    "plt.legend();"
   ]
  },
  {
   "cell_type": "markdown",
   "metadata": {},
   "source": [
    "- Actually, at first, the $100\\sqrt{n}$ algorithm is slower! \n",
    "- So, we can't ignore the lower order terms all the time, we can just ignore them for large $n$.\n",
    "- Big O analysis isn't the be-all and end-all. It's just often useful."
   ]
  },
  {
   "cell_type": "markdown",
   "metadata": {},
   "source": [
    "#### Addition vs. multiplication\n",
    "\n",
    "- How is $n+\\log(n)$ different from $n\\log(n)$\n",
    "- The first is $O(n)$, what about the second?"
   ]
  },
  {
   "cell_type": "markdown",
   "metadata": {},
   "source": [
    "<br><br><br><br>\n",
    "- The second is $O(n\\log(n))$. \n",
    "- In Big O analysis, we keep the biggest **term**. \n",
    "  - Where \"terms\" are things being added together (not multiplied!)\n",
    "- In the first case, the biggest term is $n$.\n",
    "- In the second case, the biggest (and only) term is $n \\log(n)$."
   ]
  },
  {
   "cell_type": "markdown",
   "metadata": {},
   "source": [
    "<br><br><br>"
   ]
  },
  {
   "cell_type": "markdown",
   "metadata": {},
   "source": [
    "### 3.5. Big O with two variables"
   ]
  },
  {
   "cell_type": "markdown",
   "metadata": {},
   "source": [
    "Consider this code:"
   ]
  },
  {
   "cell_type": "code",
   "execution_count": null,
   "metadata": {},
   "outputs": [],
   "source": [
    "def fun(n,m):\n",
    "    for i in range(n):\n",
    "        for j in range(m):\n",
    "            print(\"Hello\")\n",
    "    \n",
    "    for j in range(m):\n",
    "            print(\"Hello\")"
   ]
  },
  {
   "cell_type": "markdown",
   "metadata": {},
   "source": [
    "What is the time complexity?\n",
    "\n",
    "$nm+m$"
   ]
  },
  {
   "cell_type": "markdown",
   "metadata": {},
   "source": [
    "- The time complexity here is $O(nm)$. \n",
    "\n",
    "- If $m=n$  then it would be $O(n^2)$. \n",
    "- Note that everything should be combined in one big O \n",
    "  - it should be $O(nm)$ and not $O(n)O(m)$. \n",
    "- Likewise with addition, one would write $O(n+m)$ and not $O(n)+O(m)$.\n",
    "- $O(nm+m)$ would be just $O(nm)$\n",
    "  - $nm+m=(n+1)m$ and we don't make a distinction between $n$ and $n+1$\n",
    "- $O(n^2+n+m)$ would be just $O(n^2+m)$\n",
    "- $O(n^2+nm + m)$ would be $O(n^2+nm)$. We can't throw away either term because we don't know which will end up being the \"dominant\" factor."
   ]
  },
  {
   "cell_type": "markdown",
   "metadata": {},
   "source": [
    "### 3.6. Worst/best/average cases\n",
    "\n",
    "Consider this code:"
   ]
  },
  {
   "cell_type": "code",
   "execution_count": null,
   "metadata": {},
   "outputs": [],
   "source": [
    "def find_0(x):\n",
    "    for x_i in x:\n",
    "        if x_i == 0:\n",
    "            return True\n",
    "    return False"
   ]
  },
  {
   "cell_type": "markdown",
   "metadata": {},
   "source": [
    "- If $n$ is the length of `x`, the runtime here is $O(n)$.\n",
    "\n",
    "- But is it always? What if we know `x[0]` is always 0, for any $n$? Then it's $O(1)$.\n",
    "- What if the $0$ could be anywhere? Then it's $n/2$ on average which is $O(n)$.\n",
    "- Sometimes algorithms have different _best case_, _worst case_ and _average case_ runtimes.\n",
    "- In this course we won't go into this distinction. We're generally referring to the worst case, which often is the same complexity as the average cases anyway when you're concerned with the asymptotic behaviour."
   ]
  },
  {
   "cell_type": "markdown",
   "metadata": {},
   "source": [
    "### 3.7. More examples: linear search and binary search\n",
    "\n",
    "We return to the problem of checking whether an element is present in a collection."
   ]
  },
  {
   "cell_type": "markdown",
   "metadata": {},
   "source": [
    "#### Linear search"
   ]
  },
  {
   "cell_type": "code",
   "execution_count": null,
   "metadata": {},
   "outputs": [],
   "source": [
    "def search_unsorted(data, key):\n",
    "    \"\"\"\n",
    "    Searches the key in data using linear search \n",
    "    and returns True if found and False otherwise. \n",
    "\n",
    "    Parameters\n",
    "    ----------\n",
    "    data : list\n",
    "           the elements to search within\n",
    "    key  : int\n",
    "           the key to search for\n",
    "\n",
    "    Returns\n",
    "    -------\n",
    "    bool\n",
    "        boolean if key is contained in the data \n",
    "\n",
    "    Examples\n",
    "    --------\n",
    "    >>> search_unsorted([1, 7, 67, 35, 45], 3)\n",
    "    False\n",
    "    >>> search_unsorted([1, 7, 67, 35, 45], 7)\n",
    "    True\n",
    "    \"\"\"\n",
    "\n",
    "    for element in data:\n",
    "        if element == key:\n",
    "            return True\n",
    "    return False"
   ]
  },
  {
   "cell_type": "markdown",
   "metadata": {},
   "source": [
    "**Question:** What is the time complexity of the `search_unsorted`, as a function of the length of the list, $n$? "
   ]
  },
  {
   "cell_type": "markdown",
   "metadata": {},
   "source": [
    "<br><br><br><br><br><br><br><br> \n",
    "**Answer:** The time complexity of the `search_unsorted` function is $O(n)$ because in the worst case the function loops over $n$ elements. "
   ]
  },
  {
   "cell_type": "markdown",
   "metadata": {},
   "source": [
    "#### Binary search\n",
    "\n",
    "- If the list is already sorted, we can search much faster with _binary search_.\n",
    "- See the \"binary search video\" that was assigned as pre-class viewing. \n",
    "- We start in the middle and can just restrict ourselves to searching half the list after a comparison.\n",
    "- Note: the input list must be sorted for the code to work.\n",
    "- For more information, you can check out https://www.youtube.com/watch?v=y62zj9ozPOM&t=1314s (watch until 31:00.)"
   ]
  },
  {
   "cell_type": "code",
   "execution_count": null,
   "metadata": {},
   "outputs": [],
   "source": [
    "def search_sorted(data, key):\n",
    "    \"\"\"\n",
    "    Searches the key in data using binary search \n",
    "    and returns True if found and False otherwise. \n",
    "\n",
    "    Parameters\n",
    "    ----------\n",
    "    data : list\n",
    "           a list of sorted elements to search within\n",
    "    key  : int\n",
    "           the key to search for\n",
    "\n",
    "    Returns\n",
    "    -------\n",
    "    bool :\n",
    "        boolean if key is contained in the data \n",
    "\n",
    "    Examples\n",
    "    --------\n",
    "    >>> search_sorted([1, 7, 35, 45, 67], 3)\n",
    "    False\n",
    "    >>> search_sorted([1, 7, 35, 45, 67], 7)\n",
    "    True\n",
    "    \"\"\"\n",
    "    \n",
    "    low = 0\n",
    "    high = len(data) - 1\n",
    "    while (low <= high):\n",
    "        mid = (high + low)//2\n",
    "        if data[mid] == key:\n",
    "            return True\n",
    "        if key < data[mid]:\n",
    "            high = mid - 1\n",
    "        else:\n",
    "            low = mid + 1\n",
    "    return False"
   ]
  },
  {
   "cell_type": "markdown",
   "metadata": {},
   "source": [
    "**Question:** What is the time complexity of the `search_sorted`, as a function of the length of the list, $n$? "
   ]
  },
  {
   "cell_type": "markdown",
   "metadata": {},
   "source": [
    "<br><br><br><br><br><br><br><br> **Answer:** The time complexity of the `search_sorted` function is $O(\\log n)$ because in the worst case, the function loops over $\\log n$ elements, as the search space reduces by half in each iteration of the loop. "
   ]
  },
  {
   "cell_type": "markdown",
   "metadata": {},
   "source": [
    "**Question:** What happens if you call `search_unsorted` on sorted data? What happens if you call `search_sorted` on unsorted data?"
   ]
  },
  {
   "cell_type": "markdown",
   "metadata": {},
   "source": [
    "<br><br><br><br><br><br> **Answer:** The `search_unsorted` function does not care about whether the data is sorted or not. In both cases, it sequentially searches for the key and returns `True` when it is found. The `search_sorted` function, on the other hand, is based on the assumption that the data is sorted in ascending order and you might miss the element you are looking for if called on unsorted data. In binary search, whenever we are in a position, all elements on the left are less than (or equal to in cases where values occur multiple times in the data) the element at the position and all elements on the right are greater than the element at the position, which is helpful in deciding which part of the list the next search should happen.   \n",
    "\n",
    "For example:"
   ]
  },
  {
   "cell_type": "code",
   "execution_count": null,
   "metadata": {},
   "outputs": [],
   "source": [
    "search_sorted([3, 2, 1], 1)"
   ]
  },
  {
   "cell_type": "markdown",
   "metadata": {},
   "source": [
    "**Question:** Why doesn't the `search_sorted` function start by verifying that the list is indeed sorted?"
   ]
  },
  {
   "cell_type": "markdown",
   "metadata": {},
   "source": [
    "<br><br><br><br><br><br>\n",
    "**Answer:** because this would take $O(n)$ time, defeating the purpose of the $O(\\log\\, n)$ lookup."
   ]
  },
  {
   "cell_type": "markdown",
   "metadata": {},
   "source": [
    "#### Code timing (pre-lab)\n",
    "\n",
    "Below we empirically measure the running times of `search_unsorted` and `search_sorted`. "
   ]
  },
  {
   "cell_type": "markdown",
   "metadata": {},
   "source": [
    "**Question:** Why do I search for $-1$ in the code below? Why not $1$?"
   ]
  },
  {
   "cell_type": "code",
   "execution_count": null,
   "metadata": {},
   "outputs": [],
   "source": [
    "list_sizes = [100, 1000, 10000, 100000, 1_000_000, 10_000_000]\n",
    "\n",
    "results = defaultdict(list)\n",
    "results[\"size\"] = list_sizes\n",
    "\n",
    "key = -1\n",
    "\n",
    "for list_size in list_sizes:\n",
    "    print('List size: ', list_size)\n",
    "    x = np.random.randint(1e8, size=list_size)\n",
    "\n",
    "    time = %timeit -q -o -r 1 search_unsorted(x, key)\n",
    "    results[\"Unsorted list linear\"].append(time.average)\n",
    "    # Note: -q prevents it from printing to the terminal\n",
    "    #       -o sends the result to a variable (average time in seconds)\n",
    "    #       -r 3 makes it average only 3 trials instead of the default of 7, which saves time\n",
    "\n",
    "    time = %timeit -q -o -r 1 (key in x)\n",
    "    results[\"Unsorted list in\"].append(time.average)\n",
    "\n",
    "    x.sort()\n",
    "    time = %timeit -q -o -r 1 search_sorted(x, key)\n",
    "    results[\"Sorted list binary\"].append(time.average)\n",
    "\n",
    "    x_set = set(x)\n",
    "    time = %timeit -q -o -r 1 (key in x_set)\n",
    "    results[\"Python set in\"].append(time.average)"
   ]
  },
  {
   "cell_type": "markdown",
   "metadata": {},
   "source": [
    "**Answer**: we search for -1 because we know it will not be in the array. This gives us a worst case timing, because searching is the slowest  if it has to keep looking; it can be faster if it finds something right away. For example, if it's the 1st element, then linear search would seem extremely fast."
   ]
  },
  {
   "cell_type": "code",
   "execution_count": null,
   "metadata": {},
   "outputs": [],
   "source": [
    "df = pd.DataFrame(results, columns=list(results.keys()))\n",
    "df"
   ]
  },
  {
   "cell_type": "markdown",
   "metadata": {},
   "source": [
    "Are these consistent with the time complexities we expected?"
   ]
  },
  {
   "cell_type": "markdown",
   "metadata": {},
   "source": [
    "Reading runtimes from a table: what happens of $N$ becomes $10N$?\n",
    "\n",
    "- Linear: time $T$ goes up to $10T$\n",
    "- Logarithmic: time $T$ goes up to $T+\\Delta T$\n",
    "- Constant: time $T$ stays about the same"
   ]
  },
  {
   "cell_type": "code",
   "execution_count": null,
   "metadata": {},
   "outputs": [],
   "source": [
    "df_long = pd.melt(df, id_vars=\"size\", var_name=\"method\", value_name=\"time (s)\")\n",
    "\n",
    "alt.Chart(df_long).mark_line().encode(\n",
    "    alt.X('size', scale=alt.Scale(type='log')),\n",
    "    alt.Y('time (s)', scale=alt.Scale(type='log')),\n",
    "    color='method'\n",
    ").configure_axis(grid=False)"
   ]
  },
  {
   "cell_type": "markdown",
   "metadata": {},
   "source": [
    "Note that the `binary_search` we wrote is actually slower than the linear search using `in` when the list is smaller than $10,000$ elements. Remember, big-O is just an \"asymptotic\" trend. There could be:\n",
    "\n",
    "- Large/small constants, like $1000\\log(n)$ vs. $n$.\n",
    "- \"Lower order terms\", like $\\log(n)+100 \\log \\log(n) + 100$ vs. $n$.\n",
    "\n",
    "We are probably seeing the former; my code performs fewer steps (better complexity), but each step is much slower because the implementation is not optimized. (Often, though, we don't care too much about how code performs for very small inputs.)"
   ]
  },
  {
   "cell_type": "markdown",
   "metadata": {},
   "source": [
    "(**Note:** the last ~10 minutes of material are not easy and very important. If you didn't completely follow, please review them later and ask questions as needed!)"
   ]
  },
  {
   "cell_type": "markdown",
   "metadata": {},
   "source": [
    "The two fastest methods (the orange and blue curves) look quite similar. We can compare them on a log plot (time vs. $\\log n$) to try and tell the difference."
   ]
  },
  {
   "cell_type": "code",
   "execution_count": null,
   "metadata": {},
   "outputs": [],
   "source": [
    "df_long = pd.melt(df[[\"size\", \"Sorted list binary\", \"Python set in\"]],\n",
    "                  id_vars=\"size\", var_name=\"method\", value_name=\"time (s)\")\n",
    "\n",
    "alt.Chart(df_long).mark_line().encode(\n",
    "    alt.X('size', scale=alt.Scale(type='log')),\n",
    "    alt.Y('time (s)'),\n",
    "    color='method'\n",
    ").configure_axis(grid=False)\n"
   ]
  },
  {
   "cell_type": "markdown",
   "metadata": {},
   "source": [
    "We can see that the set really is constant, but the binary search is logarithmic - in the plot, time is linear in $\\log(n)$."
   ]
  },
  {
   "cell_type": "markdown",
   "metadata": {},
   "source": [
    "## 4. Space Complexity"
   ]
  },
  {
   "cell_type": "markdown",
   "metadata": {},
   "source": [
    "- If code takes too long to run, that might be a problem.\n",
    "- Another possible problem is running out of memory.\n",
    "  - Note: this is NOT the same as \"disk space\"."
   ]
  },
  {
   "cell_type": "code",
   "execution_count": null,
   "metadata": {},
   "outputs": [],
   "source": [
    "import psutil\n",
    "psutil.virtual_memory()"
   ]
  },
  {
   "cell_type": "markdown",
   "metadata": {},
   "source": [
    "- Apparently I have about 16 GB of RAM.\n",
    "\n",
    "- A number typically takes up 8 bytes, so I can store around 2 billion numbers.\n",
    "  - Actually less, because I have other stuff going on, not just Python.\n",
    "  - Plus, there's overhead from within Python.\n",
    "- If my code needs to store 2 billion numbers _at the same time_, I can't run it on my laptop. \n",
    "- We also analyze space complexity using Big O notation."
   ]
  },
  {
   "cell_type": "markdown",
   "metadata": {},
   "source": [
    "\n",
    "- With _time complexity_, we tend to think more about the _algorithms_.\n",
    "- With _space complexity_, we tend to think more about the _data structures_.\n",
    "\n"
   ]
  },
  {
   "cell_type": "markdown",
   "metadata": {},
   "source": [
    "#### Example 1:\n",
    "\n",
    "```python\n",
    "x = np.zeros(n)\n",
    "```\n",
    "<br><br><br>"
   ]
  },
  {
   "cell_type": "markdown",
   "metadata": {},
   "source": [
    "<br><br><br><br>\n",
    "Space complexity: $O(n)$"
   ]
  },
  {
   "cell_type": "markdown",
   "metadata": {},
   "source": [
    "#### Example 2:\n",
    "\n",
    "```python\n",
    "x = np.zeros((n,n))\n",
    "```\n",
    "<br><br><br>\n"
   ]
  },
  {
   "cell_type": "markdown",
   "metadata": {},
   "source": [
    "\n",
    "<br><br><br>\n",
    "Space complexity: $O(n^2)$"
   ]
  },
  {
   "cell_type": "markdown",
   "metadata": {},
   "source": [
    "#### Example 3:\n",
    "\n",
    "```python\n",
    "x = np.zeros((n,n,5))\n",
    "```\n",
    "<br><br><br>\n"
   ]
  },
  {
   "cell_type": "markdown",
   "metadata": {},
   "source": [
    "\n",
    "<br><br><br>\n",
    "Space complexity: $O(n^2)$"
   ]
  },
  {
   "cell_type": "markdown",
   "metadata": {},
   "source": [
    "#### Example 4:\n",
    "\n",
    "```python\n",
    "x = np.zeros((n,n,n))\n",
    "```\n",
    "<br><br><br>\n"
   ]
  },
  {
   "cell_type": "markdown",
   "metadata": {},
   "source": [
    "\n",
    "<br><br><br>\n",
    "Space complexity: $O(n^3)$\n",
    "\n",
    "<br><br><br>\n",
    "##### Some tools for evaluating np array size:"
   ]
  },
  {
   "cell_type": "code",
   "execution_count": null,
   "metadata": {},
   "outputs": [],
   "source": [
    "x = np.zeros((3,3,3))"
   ]
  },
  {
   "cell_type": "code",
   "execution_count": null,
   "metadata": {},
   "outputs": [],
   "source": [
    "x.shape"
   ]
  },
  {
   "cell_type": "code",
   "execution_count": null,
   "metadata": {},
   "outputs": [],
   "source": [
    "x.size"
   ]
  },
  {
   "cell_type": "code",
   "execution_count": null,
   "metadata": {},
   "outputs": [],
   "source": [
    "np.prod(x.shape)"
   ]
  },
  {
   "cell_type": "markdown",
   "metadata": {},
   "source": [
    "#### Example 5:\n",
    "\n",
    "```python\n",
    "x = np.zeros(5)\n",
    "```\n",
    "<br><br><br>\n"
   ]
  },
  {
   "cell_type": "markdown",
   "metadata": {},
   "source": [
    "\n",
    "<br><br><br>\n",
    "Space complexity: $O(1)$"
   ]
  },
  {
   "cell_type": "markdown",
   "metadata": {},
   "source": [
    "#### Example 6 (time permitting): \n",
    "\n",
    "You have $n$ users on your social network site, and you want to store a \"level of friendship\" between every pair of users.\n",
    "<br><br><br>"
   ]
  },
  {
   "cell_type": "markdown",
   "metadata": {},
   "source": [
    "<br><br><br>\n",
    "Space complexity: $O(n^2)$\n",
    "\n"
   ]
  },
  {
   "cell_type": "markdown",
   "metadata": {},
   "source": [
    "#### Example 7 (time permitting):\n",
    "\n",
    "You have $n$ users on your social network site, and you want to store who is friends with who.\n",
    "\n",
    "<br><br><br>\n"
   ]
  },
  {
   "cell_type": "markdown",
   "metadata": {},
   "source": [
    "\n",
    "<br><br><br>\n",
    "Space complexity: it depends! If each user only has a constant (independent of $n$) number of friends, then $O(n)$. But in the worst case it could be $O(n^2)$. \n",
    "\n",
    "More on this in week 3!"
   ]
  },
  {
   "cell_type": "markdown",
   "metadata": {},
   "source": [
    "##### Subtlety about space complexity:"
   ]
  },
  {
   "cell_type": "code",
   "execution_count": null,
   "metadata": {},
   "outputs": [],
   "source": [
    "range(5)"
   ]
  },
  {
   "cell_type": "code",
   "execution_count": null,
   "metadata": {},
   "outputs": [],
   "source": [
    "list(range(5))"
   ]
  },
  {
   "cell_type": "code",
   "execution_count": null,
   "metadata": {},
   "outputs": [],
   "source": [
    "np.arange(5)"
   ]
  },
  {
   "cell_type": "markdown",
   "metadata": {},
   "source": [
    "## 5. (Optional) Memory Swapping"
   ]
  },
  {
   "cell_type": "code",
   "execution_count": null,
   "metadata": {},
   "outputs": [],
   "source": [
    "import psutil\n",
    "psutil.virtual_memory()"
   ]
  },
  {
   "cell_type": "code",
   "execution_count": null,
   "metadata": {},
   "outputs": [],
   "source": [
    "x = np.random.rand(1_000_000_000)"
   ]
  },
  {
   "cell_type": "code",
   "execution_count": null,
   "metadata": {},
   "outputs": [],
   "source": [
    "x.shape"
   ]
  },
  {
   "cell_type": "code",
   "execution_count": null,
   "metadata": {},
   "outputs": [],
   "source": [
    "psutil.virtual_memory()"
   ]
  },
  {
   "cell_type": "code",
   "execution_count": null,
   "metadata": {},
   "outputs": [],
   "source": [
    "x.nbytes"
   ]
  },
  {
   "cell_type": "code",
   "execution_count": null,
   "metadata": {},
   "outputs": [],
   "source": [
    "from sys import getsizeof"
   ]
  },
  {
   "cell_type": "code",
   "execution_count": null,
   "metadata": {},
   "outputs": [],
   "source": [
    "getsizeof(x)"
   ]
  },
  {
   "cell_type": "code",
   "execution_count": null,
   "metadata": {},
   "outputs": [],
   "source": [
    "x = np.random.rand(3_000_000_000)"
   ]
  },
  {
   "cell_type": "code",
   "execution_count": null,
   "metadata": {},
   "outputs": [],
   "source": [
    "x.nbytes"
   ]
  },
  {
   "cell_type": "code",
   "execution_count": null,
   "metadata": {},
   "outputs": [],
   "source": [
    "psutil.virtual_memory()"
   ]
  },
  {
   "cell_type": "code",
   "execution_count": null,
   "metadata": {},
   "outputs": [],
   "source": [
    "x.shape"
   ]
  },
  {
   "cell_type": "markdown",
   "metadata": {},
   "source": [
    "It seems that I'm able to create a 24 GB numpy array with only 16 GB of RAM on my machine. This is most likely due to the availability of [_swap_ memory](https://linuxhint.com/swap_memory_linux/), where data in the RAM are written to the hard drive to make room for extra data when the RAM is nearly full."
   ]
  },
  {
   "cell_type": "code",
   "execution_count": null,
   "metadata": {},
   "outputs": [],
   "source": []
  }
 ],
 "metadata": {
  "kernelspec": {
   "display_name": "Python 3 (ipykernel)",
   "language": "python",
   "name": "python3"
  },
  "language_info": {
   "codemirror_mode": {
    "name": "ipython",
    "version": 3
   },
   "file_extension": ".py",
   "mimetype": "text/x-python",
   "name": "python",
   "nbconvert_exporter": "python",
   "pygments_lexer": "ipython3",
   "version": "3.11.9"
  },
  "vscode": {
   "interpreter": {
    "hash": "833530e805897aab5e7a30ee530b0bcb4cd19373b840f29eae5897b61b26002e"
   }
  }
 },
 "nbformat": 4,
 "nbformat_minor": 4
}
